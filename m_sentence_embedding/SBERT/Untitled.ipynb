{
 "cells": [
  {
   "cell_type": "code",
   "execution_count": 9,
   "metadata": {},
   "outputs": [],
   "source": [
    "import pandas as pd"
   ]
  },
  {
   "cell_type": "code",
   "execution_count": 1,
   "metadata": {},
   "outputs": [],
   "source": [
    "training_data = '../SimCSE/data/nli_for_simcse.csv'"
   ]
  },
  {
   "cell_type": "code",
   "execution_count": 10,
   "metadata": {
    "scrolled": true
   },
   "outputs": [
    {
     "data": {
      "text/html": [
       "<div>\n",
       "<style scoped>\n",
       "    .dataframe tbody tr th:only-of-type {\n",
       "        vertical-align: middle;\n",
       "    }\n",
       "\n",
       "    .dataframe tbody tr th {\n",
       "        vertical-align: top;\n",
       "    }\n",
       "\n",
       "    .dataframe thead th {\n",
       "        text-align: right;\n",
       "    }\n",
       "</style>\n",
       "<table border=\"1\" class=\"dataframe\">\n",
       "  <thead>\n",
       "    <tr style=\"text-align: right;\">\n",
       "      <th></th>\n",
       "      <th>sent0</th>\n",
       "      <th>sent1</th>\n",
       "      <th>hard_neg</th>\n",
       "    </tr>\n",
       "  </thead>\n",
       "  <tbody>\n",
       "    <tr>\n",
       "      <th>0</th>\n",
       "      <td>you know during the season and i guess at at y...</td>\n",
       "      <td>You lose the things to the following level if ...</td>\n",
       "      <td>They never perform recalls on anything.</td>\n",
       "    </tr>\n",
       "    <tr>\n",
       "      <th>1</th>\n",
       "      <td>One of our number will carry out your instruct...</td>\n",
       "      <td>A member of my team will execute your orders w...</td>\n",
       "      <td>We have no one free at the moment so you have ...</td>\n",
       "    </tr>\n",
       "    <tr>\n",
       "      <th>2</th>\n",
       "      <td>How do you know? All this is their information...</td>\n",
       "      <td>This information belongs to them.</td>\n",
       "      <td>They have no information at all.</td>\n",
       "    </tr>\n",
       "    <tr>\n",
       "      <th>3</th>\n",
       "      <td>yeah i tell you what though if you go price so...</td>\n",
       "      <td>The tennis shoes can be in the hundred dollar ...</td>\n",
       "      <td>The tennis shoes are not over hundred dollars.</td>\n",
       "    </tr>\n",
       "    <tr>\n",
       "      <th>4</th>\n",
       "      <td>my walkman broke so i'm upset now i just have ...</td>\n",
       "      <td>I'm upset that my walkman broke and now I have...</td>\n",
       "      <td>My walkman still works as well as it always did.</td>\n",
       "    </tr>\n",
       "    <tr>\n",
       "      <th>...</th>\n",
       "      <td>...</td>\n",
       "      <td>...</td>\n",
       "      <td>...</td>\n",
       "    </tr>\n",
       "    <tr>\n",
       "      <th>275596</th>\n",
       "      <td>A group of four kids stand in front of a statu...</td>\n",
       "      <td>four kids standing</td>\n",
       "      <td>the kids are seated</td>\n",
       "    </tr>\n",
       "    <tr>\n",
       "      <th>275597</th>\n",
       "      <td>a kid doing tricks on a skateboard on a bridge</td>\n",
       "      <td>a kid is skateboarding</td>\n",
       "      <td>a kid is inside</td>\n",
       "    </tr>\n",
       "    <tr>\n",
       "      <th>275598</th>\n",
       "      <td>A dog with a blue collar plays ball outside.</td>\n",
       "      <td>a dog is outside</td>\n",
       "      <td>a dog is on the couch</td>\n",
       "    </tr>\n",
       "    <tr>\n",
       "      <th>275599</th>\n",
       "      <td>Four dirty and barefooted children.</td>\n",
       "      <td>four children have dirty feet.</td>\n",
       "      <td>four kids won awards for 'cleanest feet'</td>\n",
       "    </tr>\n",
       "    <tr>\n",
       "      <th>275600</th>\n",
       "      <td>A man is surfing in a bodysuit in beautiful bl...</td>\n",
       "      <td>On the beautiful blue water there is a man in ...</td>\n",
       "      <td>A man in a business suit is heading to a board...</td>\n",
       "    </tr>\n",
       "  </tbody>\n",
       "</table>\n",
       "<p>275601 rows × 3 columns</p>\n",
       "</div>"
      ],
      "text/plain": [
       "                                                    sent0  \\\n",
       "0       you know during the season and i guess at at y...   \n",
       "1       One of our number will carry out your instruct...   \n",
       "2       How do you know? All this is their information...   \n",
       "3       yeah i tell you what though if you go price so...   \n",
       "4       my walkman broke so i'm upset now i just have ...   \n",
       "...                                                   ...   \n",
       "275596  A group of four kids stand in front of a statu...   \n",
       "275597     a kid doing tricks on a skateboard on a bridge   \n",
       "275598       A dog with a blue collar plays ball outside.   \n",
       "275599                Four dirty and barefooted children.   \n",
       "275600  A man is surfing in a bodysuit in beautiful bl...   \n",
       "\n",
       "                                                    sent1  \\\n",
       "0       You lose the things to the following level if ...   \n",
       "1       A member of my team will execute your orders w...   \n",
       "2                       This information belongs to them.   \n",
       "3       The tennis shoes can be in the hundred dollar ...   \n",
       "4       I'm upset that my walkman broke and now I have...   \n",
       "...                                                   ...   \n",
       "275596                                 four kids standing   \n",
       "275597                             a kid is skateboarding   \n",
       "275598                                   a dog is outside   \n",
       "275599                     four children have dirty feet.   \n",
       "275600  On the beautiful blue water there is a man in ...   \n",
       "\n",
       "                                                 hard_neg  \n",
       "0                 They never perform recalls on anything.  \n",
       "1       We have no one free at the moment so you have ...  \n",
       "2                        They have no information at all.  \n",
       "3          The tennis shoes are not over hundred dollars.  \n",
       "4        My walkman still works as well as it always did.  \n",
       "...                                                   ...  \n",
       "275596                                the kids are seated  \n",
       "275597                                    a kid is inside  \n",
       "275598                              a dog is on the couch  \n",
       "275599           four kids won awards for 'cleanest feet'  \n",
       "275600  A man in a business suit is heading to a board...  \n",
       "\n",
       "[275601 rows x 3 columns]"
      ]
     },
     "execution_count": 10,
     "metadata": {},
     "output_type": "execute_result"
    }
   ],
   "source": [
    "file = pd.read_csv(training_data)\n",
    "file"
   ]
  },
  {
   "cell_type": "code",
   "execution_count": 12,
   "metadata": {},
   "outputs": [],
   "source": [
    "text = file.values.tolist()"
   ]
  },
  {
   "cell_type": "code",
   "execution_count": 14,
   "metadata": {},
   "outputs": [
    {
     "data": {
      "text/plain": [
       "['you know during the season and i guess at at your level uh you lose them to the next level if if they decide to recall the the parent team the Braves decide to call to recall a guy from triple A then a double A guy goes up to replace him and a single A guy goes up to replace him',\n",
       " 'You lose the things to the following level if the people recall.',\n",
       " 'They never perform recalls on anything.']"
      ]
     },
     "execution_count": 14,
     "metadata": {},
     "output_type": "execute_result"
    }
   ],
   "source": [
    "text[0]"
   ]
  },
  {
   "cell_type": "code",
   "execution_count": null,
   "metadata": {},
   "outputs": [],
   "source": []
  }
 ],
 "metadata": {
  "kernelspec": {
   "display_name": "Python 3",
   "language": "python",
   "name": "python3"
  },
  "language_info": {
   "codemirror_mode": {
    "name": "ipython",
    "version": 3
   },
   "file_extension": ".py",
   "mimetype": "text/x-python",
   "name": "python",
   "nbconvert_exporter": "python",
   "pygments_lexer": "ipython3",
   "version": "3.6.9"
  }
 },
 "nbformat": 4,
 "nbformat_minor": 2
}
