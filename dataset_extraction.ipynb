{
 "cells": [
  {
   "cell_type": "code",
   "execution_count": 1,
   "id": "43f08f7b-2a3f-4830-998f-78a8d914f167",
   "metadata": {
    "tags": []
   },
   "outputs": [],
   "source": [
    "import os\n",
    "os.environ[\"CUDA_VISIBLE_DEVICES\"] = \"0\"\n",
    "os.environ[\"TRANSFORMERS_CACHE\"]=\"/workspace/cache\"\n",
    "os.environ[\"HF_DATASETS_CACHE\"]=\"/workspace/cache\" "
   ]
  },
  {
   "cell_type": "code",
   "execution_count": 2,
   "id": "c82756b2-2083-47bf-b3b6-377d67e98dc3",
   "metadata": {
    "tags": []
   },
   "outputs": [],
   "source": [
    "import pandas as pd\n",
    "from datasets import load_dataset"
   ]
  },
  {
   "cell_type": "markdown",
   "id": "f790ab42-8d94-419d-9756-f989397f4dc5",
   "metadata": {},
   "source": [
    "# Summarization"
   ]
  },
  {
   "cell_type": "code",
   "execution_count": 3,
   "id": "b7d68faa-a12d-4d0f-a38a-ee3da77acfe5",
   "metadata": {
    "tags": []
   },
   "outputs": [],
   "source": [
    "ds = load_dataset(\"csebuetnlp/xlsum\", \"thai\")"
   ]
  },
  {
   "cell_type": "code",
   "execution_count": 4,
   "id": "f89bb7cd-cbcd-43ff-ae67-39d485c29b66",
   "metadata": {
    "tags": []
   },
   "outputs": [],
   "source": [
    "shuffled_dataset = ds['test'].shuffle(seed=42)"
   ]
  },
  {
   "cell_type": "code",
   "execution_count": 6,
   "id": "2d8189dd-6017-4e59-a11c-b32797a6e4db",
   "metadata": {
    "tags": []
   },
   "outputs": [],
   "source": [
    "data_all = []\n",
    "target = 20\n",
    "for index in range(len(shuffled_dataset)):\n",
    "    data = shuffled_dataset[index]\n",
    "    data_all.append([data['id'],data['summary'],data['text'],data['title'],data['url']])\n",
    "    if index == target-1:\n",
    "        break\n",
    "    "
   ]
  },
  {
   "cell_type": "code",
   "execution_count": 7,
   "id": "a3d54db8-9ed1-422a-bf49-148ff073bf9d",
   "metadata": {
    "tags": []
   },
   "outputs": [],
   "source": [
    "df = pd.DataFrame(data_all,columns =['id', 'summary','text','title','url'])"
   ]
  },
  {
   "cell_type": "code",
   "execution_count": 9,
   "id": "740cc189-4df0-489d-ac7e-bd08ff5216d4",
   "metadata": {
    "tags": []
   },
   "outputs": [],
   "source": [
    "df.to_csv('summarization.csv',index=False)"
   ]
  },
  {
   "cell_type": "markdown",
   "id": "c7441727-845b-409b-8b15-54bc6bf13ba0",
   "metadata": {},
   "source": [
    "# Translation"
   ]
  },
  {
   "cell_type": "code",
   "execution_count": 3,
   "id": "1f54f438-0377-4b05-be4b-16f967637d5d",
   "metadata": {
    "tags": []
   },
   "outputs": [],
   "source": [
    "ds = load_dataset(\"Muennighoff/flores200\",'eng_Latn-tha_Thai',trust_remote_code=True)"
   ]
  },
  {
   "cell_type": "code",
   "execution_count": 4,
   "id": "9aad3861-7694-4cff-a720-5df510f815c1",
   "metadata": {
    "tags": []
   },
   "outputs": [],
   "source": [
    "shuffled_dataset = ds['devtest'].shuffle(seed=42)"
   ]
  },
  {
   "cell_type": "code",
   "execution_count": 5,
   "id": "cd68540f-56fb-489b-8562-ee77caefcaf2",
   "metadata": {
    "tags": []
   },
   "outputs": [
    {
     "data": {
      "text/plain": [
       "Dataset({\n",
       "    features: ['id', 'URL', 'domain', 'topic', 'has_image', 'has_hyperlink', 'sentence_eng_Latn', 'sentence_tha_Thai'],\n",
       "    num_rows: 1012\n",
       "})"
      ]
     },
     "execution_count": 5,
     "metadata": {},
     "output_type": "execute_result"
    }
   ],
   "source": [
    "shuffled_dataset"
   ]
  },
  {
   "cell_type": "code",
   "execution_count": 6,
   "id": "95c2b981-a503-4858-9651-ce109aab7e84",
   "metadata": {
    "tags": []
   },
   "outputs": [],
   "source": [
    "data_all = []\n",
    "count = 0\n",
    "target = 20\n",
    "for index in range(len(shuffled_dataset)):\n",
    "    data = shuffled_dataset[index]\n",
    "    # if len(data['translation']['th']) > 30:\n",
    "    #     continue\n",
    "    # else:\n",
    "    #     pass\n",
    "    id_define = f\"f200-enth-{data['id']}\"\n",
    "    data_all.append([id_define,data['sentence_tha_Thai'],data['sentence_eng_Latn']])\n",
    "    count+=1\n",
    "    if count == target:\n",
    "        break\n",
    "        \n",
    "    "
   ]
  },
  {
   "cell_type": "code",
   "execution_count": 7,
   "id": "519a089a-4239-484d-a746-f8efd66c01c9",
   "metadata": {
    "tags": []
   },
   "outputs": [],
   "source": [
    "df = pd.DataFrame(data_all,columns =['id', 'th','en'])\n",
    "df.to_csv('translation.csv',index=False)"
   ]
  },
  {
   "cell_type": "markdown",
   "id": "f3ed7685-3462-4d26-942c-0a7d249aeaa5",
   "metadata": {},
   "source": [
    "# QA"
   ]
  },
  {
   "cell_type": "code",
   "execution_count": 3,
   "id": "cf8f2edd-30dd-42d2-8346-9e40a4f09579",
   "metadata": {
    "tags": []
   },
   "outputs": [],
   "source": [
    "ds = load_dataset(\"iapp/iapp_wiki_qa_squad\",trust_remote_code=True)"
   ]
  },
  {
   "cell_type": "code",
   "execution_count": 4,
   "id": "bc9b51a4-3115-4cb7-8c98-dceb1bd410c6",
   "metadata": {
    "tags": []
   },
   "outputs": [],
   "source": [
    "shuffled_dataset = ds['test'].shuffle(seed=42)"
   ]
  },
  {
   "cell_type": "code",
   "execution_count": 5,
   "id": "9d02cb7d-0457-420f-8a87-89cdcd4d48bb",
   "metadata": {
    "tags": []
   },
   "outputs": [
    {
     "data": {
      "text/plain": [
       "{'question_id': 'Xgy0Ax1dctzg19gerMAX_004',\n",
       " 'article_id': 'Xgy0Ax1dctzg19gerMAX',\n",
       " 'title': 'ปลาน้ำหมึกโคราช',\n",
       " 'context': 'ปลาน้ำหมึกโคราช หรือ ปลานางอ้าวโคราช เป็นชื่อปลาน้ำจืดชนิดหนึ่ง \\nมีชื่อวิทยาศาสตร์ว่า Opsarius koratensis อยู่ในวงศ์ปลาตะเพียน (Cyprinidae) มีรูปร่างเพรียวยาว ปากกว้างปลายแหลม เกล็ดใหญ่ค่อนข้างบาง มีลายขีดข้างลำตัวเล็กสีน้ำเงินตามแนวตั้ง ครีบสีเหลือง มีแต้มสีน้ำเงินหรือสีคล้ำอยู่ตรงกลางระหว่างขากรรไกรล่าง ในฤดูผสมพันธุ์ปลาตัวผู้จะมีสีสันสดใส มีขนาดประมาณ 10 เซนติเมตร\\nเป็นปลากินเนื้อ อาหารได้แก่ แมลง แมลงน้ำ แพลงก์ตอน ลูกปลา ลูกกุ้งขนาดเล็ก มีพฤติกรรมอาศัยอยู่เป็นฝูงในฤดูผสมพันธุ์ ปลาตัวอ่อนเลี้ยงตัวชายฝั่งของแม่น้ำและลำธารที่อยู่ พบในลำธารในป่าและบริเวณเชิงเขาในภาคเหนือและภาคอีสานของประเทศไทย รวมทั้งพบในแม่น้ำโขงด้วย\\nเป็นปลาที่พบชุกชุม และเลี้ยงเป็นปลาสวยงาม\\nมีชื่อเรียกอื่นอีกว่า \"ปลาน้ำหมึก\" หรือ \"ปลาแปบ\" เป็นต้น',\n",
       " 'question': 'ปลาน้ำหมึกโคราชนิยมเลี้ยงเป็นปลาสวยงามมีชื่อเรียกว่าอะไร',\n",
       " 'answers': {'text': ['ปลาแปบ'], 'answer_start': [708], 'answer_end': [714]}}"
      ]
     },
     "execution_count": 5,
     "metadata": {},
     "output_type": "execute_result"
    }
   ],
   "source": [
    "shuffled_dataset[0]"
   ]
  },
  {
   "cell_type": "code",
   "execution_count": 9,
   "id": "fc12e8a8-13f3-4497-915b-396e1d0342bb",
   "metadata": {
    "tags": []
   },
   "outputs": [],
   "source": [
    "data_all = []\n",
    "count = 0\n",
    "target = 20\n",
    "for index in range(len(shuffled_dataset)):\n",
    "    data = shuffled_dataset[index]\n",
    "    if len(data['answers']['text']) > 1:\n",
    "        raise Exception()\n",
    "    data_all.append([data['question_id'],data['question'],data['answers']['text'][0],data['context']])\n",
    "    count+=1\n",
    "    if count == target:\n",
    "        break\n",
    "        \n",
    "    "
   ]
  },
  {
   "cell_type": "code",
   "execution_count": 10,
   "id": "6353a12b-c0bb-4b11-b621-3bb2a21b3cc1",
   "metadata": {},
   "outputs": [],
   "source": [
    "df = pd.DataFrame(data_all,columns =['id', 'question','answer','context'])\n",
    "df.to_csv('qa.csv',index=False)"
   ]
  },
  {
   "cell_type": "code",
   "execution_count": null,
   "id": "b1ed1ac6-e2b4-4905-baaf-ba6e9b3f2803",
   "metadata": {},
   "outputs": [],
   "source": []
  }
 ],
 "metadata": {
  "kernelspec": {
   "display_name": "Python 3 (ipykernel)",
   "language": "python",
   "name": "python3"
  },
  "language_info": {
   "codemirror_mode": {
    "name": "ipython",
    "version": 3
   },
   "file_extension": ".py",
   "mimetype": "text/x-python",
   "name": "python",
   "nbconvert_exporter": "python",
   "pygments_lexer": "ipython3",
   "version": "3.10.14"
  }
 },
 "nbformat": 4,
 "nbformat_minor": 5
}
